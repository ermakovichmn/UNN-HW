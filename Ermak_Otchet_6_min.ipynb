{
 "cells": [
  {
   "cell_type": "markdown",
   "metadata": {
    "collapsed": false
   },
   "source": [
    "# Лабораторная работа №6\n",
    "\n",
    "## Поиск минимума функции многих переменных градиентным методом с дроблением шага.\n",
    "\n",
    "### Выполнил: Ермакович М.Н., группа 428\n",
    "\n"
   ]
  },
  {
   "cell_type": "markdown",
   "metadata": {
    "collapsed": false
   },
   "source": [
    "<br/>\n",
    "<br/>\n",
    "<br/>\n",
    "<br/>\n",
    "\n",
    "### <center> Нахождение минимума методом градиента с дроблением шага </center>"
   ]
  },
  {
   "cell_type": "markdown",
   "metadata": {
    "collapsed": false
   },
   "source": [
    "### <center> Теория </center>"
   ]
  },
  {
   "cell_type": "markdown",
   "metadata": {
    "collapsed": false
   },
   "source": [
    "Необходимо решить задачу одномерной минимизации, для этого используется один из методов, предполагающих наличие одного минимума внутри некоторого отрезка.\n",
    "Но он не всегда является точным. Поэтому широко используется градиентный метод без одномерной минимизации, основанный на пошаговой корректировке коэффициента,\n",
    "которым является **методом градиента с дроблением шага**"
   ]
  },
  {
   "cell_type": "markdown",
   "metadata": {
    "collapsed": false
   },
   "source": [
    "Расчетной формулой следующего коэфицента будет:\n",
    "\n",
    "$$ x^{k+1} = x^k - a_k*f'(x^k) $$\n",
    "\n",
    "Где $a_k$ является шагом, который будет дробится, а $k$ - номер текущей итерации\n",
    "\n",
    "Возьмем случайный начальный шаг $a^0_0$ и положим $a_0=a^0_0$\n",
    "\n",
    "Если $f(x^1)>=f(x^0)$ , то пологаем: $a_0=a^0_0 / p$, (где $p$ является коэфицентом на который будет дробиться $a_k$). Если при этом не произошло уменьшение значения функции, то процесс дробления продолжаем до тех пор, пока не наступит убывание.\n",
    "\n",
    "Если $f(x^1)<f(x^0)$ , то пологаем  $a_0=a^0_0 * p$ , т.е. увеличиваем шаг. Процесс удвоения продолжаем до тех пор, пока убывание не прекратится.\n",
    "\n",
    "Данные операции ,приближения к точке минимума, продолжаются до тех пор, пока не будет удовлтворено условие остановки поиска"
   ]
  },
  {
   "cell_type": "markdown",
   "metadata": {
    "collapsed": false
   },
   "source": [
    "### <center> Задание</center>"
   ]
  },
  {
   "cell_type": "markdown",
   "metadata": {
    "collapsed": false
   },
   "source": [
    "Найти точку минимум афункции $$f(x1, x2) =x^4-20*x^3+2*x^2\\cdot y^2+32*x^2*y+278*x^2-20*x*y^2-320*x*y-1784*x+y^4+32*y^3+434*y^2+2848*y+7944$$,[x1=−5, x2= 10] градиентным методом с дроблением шага.\n",
    "\n",
    "В окрестности точки минимума построить линии уровня и траекторию поиска (на одном графике)."
   ]
  },
  {
   "cell_type": "markdown",
   "metadata": {
    "collapsed": false
   },
   "source": [
    "### <center> Выполнение задания </center>\n",
    "#### <center> Программа </center>"
   ]
  },
  {
   "cell_type": "code",
   "execution_count": 3,
   "metadata": {
    "collapsed": false
   },
   "outputs": [
   ],
   "source": [
    "import math\n",
    "import numpy as np\n",
    "import matplotlib.pyplot as plt\n",
    "import pylab\n",
    "from matplotlib import mlab\n",
    "#задание начальной точки\n",
    "x1=-5\n",
    "x2=10\n",
    "x01=x1\n",
    "x02=x2\n",
    "#к-колличесвто итераций\n",
    "k=0\n",
    "#начальный коэф. дробления (p)\n",
    "h=1\n",
    "#Точность\n",
    "e=0.01\n",
    "i=0\n",
    "\n",
    "#Массивы для заполнения точками траектории поиска\n",
    "x22=[]\n",
    "y22=[]\n",
    "\n",
    "#Задание функции\n",
    "def fun(x1,x2):\n",
    "    return(x1**4-20*x1**3+2*x1**2*x2**2+32*x1**2*x2+278*x1**2-20*x1*x2**2-320*x1*x2-1784*x1+x2**4+32*x2**3+434*x2**2+2848*x2+7944)\n",
    "           #x^4-20*x^3+2*x^2*y^2+32*x^2*y+278*x^2-20*x*y^2-320*x*y-1784*x+y^4+32*y^3+434*y^2+2848*y+7944\n",
    "    \n",
    "def dx1(x1,x2):\n",
    "    return(4*x1**3-60*x1**2+4*x1*x2**2+64*x1*x2+556*x1-20*x2**2-320*x2-1784)\n",
    "\n",
    "def dx2(x1,x2):\n",
    "    return(4*x1**2*x2+32*x1**2-40*x1*x2-320*x1+4*x2**3+96*x2**2+868*x2+2848)\n",
    "\n",
    "#Z-среднее квадратичное частных производных функции(в точке минимума ~0)\n",
    "def z(x1,x2):\n",
    "    return math.sqrt((4*x1**3-60*x1**2+4*x1*x2**2+64*x1*x2+556*x1-20*x2**2-320*x2-1784)**2+(4*x1**2*x2+32*x1**2-40*x1*x2-320*x1+4*x2**3+96*x2**2+868*x2+2848)**2)\n",
    "\n",
    "while (abs(z(x01,x02))>e):\n",
    "    f1=fun(x01,x02)\n",
    "    \n",
    "    x1=x01-h*dx1(x01,x02)#Определяет x^{k+1} для x^k по шагу a_k для переменной x_1:\n",
    "    \n",
    "    x2=x02-h*dx2(x01,x02)#Определяет x^{k+1} для x^k по шагу a_k для переменной x_2:\n",
    "    \n",
    "    f2=fun(x1,x2)\n",
    "    \n",
    "    if(f2<f1):\n",
    "        x01=x1\n",
    "        x02=x2\n",
    "        h=h*1.01\n",
    "        k=k+1\n",
    "        x22.append(x01)\n",
    "        y22.append(x02)\n",
    "    else:\n",
    "        h=h*0.99\n",
    "    i=i+1\n",
    "    \n",
    "x01=x1\n",
    "x02=x2\n",
    "# \"\"\"\n",
    "# print(x1,\"    \",x2,\"    \",k,\"    \")\n",
    "# plt.grid(True)\n",
    "# x = [i for i in range(-10,20)]\n",
    "# y = [i for i in range(-30,20)]\n",
    "# x1, x2 = np.meshgrid(x, y)\n",
    "# Z=(x1**4-20*x1**3+2*x1**2*x2**2+32*x1**2*x2+278*x1**2-20*x1*x2**2-320*x1*x2-1784*x1+x2**4+32*x2**3+434*x2**2+2848*x2+7944)\n",
    "# CS=pylab.contour(x1, x2, Z,50)\n",
    "# plt.plot(x22,y22, 'o', markersize=3)\n",
    "# pylab.show()\n",
    "# plt.grid(True)\n",
    "# plt.plot(x22,y22, 'o', markersize=3)\n",
    "# pylab.xlim (5, 8)\n",
    "# pylab.ylim (-15, -5)\n",
    "# pylab.show()\n",
    "# \"\"\""
   ]
  },
  {
   "cell_type": "markdown",
   "metadata": {
    "collapsed": false
   },
   "source": [
    "\n",
    "\n",
    "### <center> Результаты </center>"
   ]
  },
  {
   "cell_type": "code",
   "execution_count": 20,
   "metadata": {
    "collapsed": false
   },
   "outputs": [
    {
     "name": "stdout",
     "output_type": "stream",
     "text": [
      "Координата x1 = 5.999994603581933\n",
      "Координата x2 = -8.002391055107763\n",
      "Минимальное значение функции = 1.1434374755481258e-05\n",
      "Колличество совершенных итераций = 268\n"
     ]
    },
    {
     "data": {
      "image/png": "[encoded data removed]",
      "text/plain": "<matplotlib.figure.Figure at 0x7ff73417ea90>"
     },
     "output_type": "display_data"
    },
    {
     "data": {
      "image/png": "[encoded data removed]",
      "text/plain": "<matplotlib.figure.Figure at 0x7ff7376230f0>"
     },
     "output_type": "display_data"
    }
   ],
   "source": [
    "\n",
    "print(\"Координата x1 =\",x01)\n",
    "print(\"Координата x2 =\",x02)\n",
    "print(\"Минимальное значение функции =\",fun(x01,x02))\n",
    "print(\"Колличество совершенных итераций =\",k)\n",
    "plt.grid(True)\n",
    "x = [i for i in range(-10,20)]\n",
    "y = [i for i in range(-30,20)]\n",
    "x1, x2 = np.meshgrid(x, y)\n",
    "Z=(x1**4-20*x1**3+2*x1**2*x2**2+32*x1**2*x2+278*x1**2-20*x1*x2**2-320*x1*x2-1784*x1+x2**4+32*x2**3+434*x2**2+2848*x2+7944)\n",
    "CS=pylab.contour(x1, x2, Z,50)\n",
    "plt.plot(x22,y22, 'o', markersize=3)\n",
    "plt.xlabel(\"x1\")\n",
    "plt.ylabel(\"x2\")\n",
    "pylab.show()\n",
    "plt.grid(True)\n",
    "plt.xlabel(\"x1\")\n",
    "plt.ylabel(\"x2\")\n",
    "plt.plot(x22,y22, 'o', markersize=3)\n",
    "pylab.xlim (5, 8)\n",
    "pylab.ylim (-15, -5)\n",
    "\n",
    "pylab.show()"
   ]
  },
  {
   "cell_type": "markdown",
   "metadata": {
    "collapsed": false
   },
   "source": [
    "**Вывод**:c помощью метода поиска минимума функции многих переменных градиентным методом с дроблением шага, мы находим **минимум функции, равный 1.1434374755481258e-05**, с координатами **x1 = 5.999994603581933**\n",
    "и **x2 = -8.002391055107763** , за **268** итерций ."
   ]
  }
 ],
 "metadata": {
  "kernelspec": {
   "display_name": "Python 3 (system-wide)",
   "language": "python",
   "metadata": {
    "cocalc": {
     "description": "Python 3 programming language",
     "priority": 100,
     "url": "https://www.python.org/"
    }
   },
   "name": "python3"
  },
  "language_info": {
   "codemirror_mode": {
    "name": "ipython",
    "version": 3
   },
   "file_extension": ".py",
   "mimetype": "text/x-python",
   "name": "python",
   "nbconvert_exporter": "python",
   "pygments_lexer": "ipython3",
   "version": "3.6.8"
  }
 },
 "nbformat": 4,
 "nbformat_minor": 0
}