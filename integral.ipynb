{
 "cells": [
  {
   "cell_type": "code",
   "execution_count": 46,
   "metadata": {
    "collapsed": false
   },
   "outputs": [
    {
     "name": "stdout",
     "output_type": "stream",
     "text": [
      "2.0\n",
      "0.02763953195770684\n",
      "0.16674482803578355\n",
      "(0.1571546674710646, 1.7447673025368604e-15)\n"
     ]
    }
   ],
   "source": [
    "import pylab\n",
    "import matplotlib.pyplot as plt\n",
    "from matplotlib import mlab\n",
    "import math\n",
    "from scipy import integrate\n",
    "a=0\n",
    "b=math.pi/4\n",
    "h=0.0001\n",
    "a1=0\n",
    "b1=0\n",
    "hs=0\n",
    "s=0\n",
    "max=0\n",
    "def func(x):\n",
    "    return (math.sin(x**2))\n",
    "#r=func(1)    \n",
    "#print(r)\n",
    "def mf(x):\n",
    "    return(math.cos(x**2)*2-4*(x**2)*math.sin(x**2))\n",
    "while hs<b:\n",
    "    if(abs(mf(hs))>max):\n",
    "        max=abs(mf(hs))\n",
    "    hs+=h\n",
    "print(max)\n",
    "'''\n",
    "xlist=mlab.frange(-0.5,b,0.1)\n",
    "ylist=[mf(x) for x in xlist]\n",
    "plt.grid (True)\n",
    "plt.plot (xlist,ylist, linewidth=2)\n",
    "plt.show()\n",
    "'''\n",
    "h=math.sqrt(0.0001*12/(max*b))\n",
    "print(h)\n",
    "hs=0\n",
    "while hs<b:\n",
    "    a1=func(hs)\n",
    "    hs+=h\n",
    "    b1=func(hs)\n",
    "    s=s+(abs(b1+a1)/2*h)\n",
    "print(s)\n",
    "print (integrate.quad(func,a,b))"
   ]
  },
  {
   "cell_type": "code",
   "execution_count": 52,
   "metadata": {
    "collapsed": false
   },
   "outputs": [
    {
     "name": "stdout",
     "output_type": "stream",
     "text": [
      "39992.440156305245\n",
      "1.73221450619025e-05\n",
      "2.3297006257019652\n",
      "(2.9422553486073255, 3.5419636112976605e-09)\n"
     ]
    }
   ],
   "source": [
    "import pylab\n",
    "import matplotlib.pyplot as plt\n",
    "from matplotlib import mlab\n",
    "import math\n",
    "from scipy import integrate\n",
    "a=0\n",
    "b=100\n",
    "h=0.0001\n",
    "a1=0\n",
    "b1=0\n",
    "hs=0.1\n",
    "s=0\n",
    "max=0\n",
    "def func(x):\n",
    "    return (1/((1+x)*math.sqrt(x)))\n",
    "#r=func(1)    \n",
    "#print(r)\n",
    "def mf(x):\n",
    "    return(math.cos(x**2)*2-4*(x**2)*math.sin(x**2))\n",
    "while hs<b:\n",
    "    if(abs(mf(hs))>max):\n",
    "        max=abs(mf(hs))\n",
    "    hs+=h\n",
    "print(max)\n",
    "'''\n",
    "xlist=mlab.frange(-0.5,b,0.1)\n",
    "ylist=[mf(x) for x in xlist]\n",
    "plt.grid (True)\n",
    "plt.plot (xlist,ylist, linewidth=2)\n",
    "plt.show()\n",
    "'''\n",
    "h=math.sqrt(0.0001*12/(max*b))\n",
    "print(h)\n",
    "hs=0.1\n",
    "while hs<b:\n",
    "    a1=func(hs)\n",
    "    hs+=h\n",
    "    b1=func(hs)\n",
    "    s=s+(abs(b1+a1)/2*h)\n",
    "print(s)\n",
    "print (integrate.quad(func,a,b))"
   ]
  },
  {
   "cell_type": "code",
   "execution_count": null,
   "metadata": {
    "collapsed": true
   },
   "outputs": [],
   "source": []
  }
 ],
 "metadata": {
  "kernelspec": {
   "display_name": "Python 3",
   "language": "python",
   "name": "python3"
  },
  "language_info": {
   "codemirror_mode": {
    "name": "ipython",
    "version": 3
   },
   "file_extension": ".py",
   "mimetype": "text/x-python",
   "name": "python",
   "nbconvert_exporter": "python",
   "pygments_lexer": "ipython3",
   "version": "3.5.1"
  }
 },
 "nbformat": 4,
 "nbformat_minor": 1
}
