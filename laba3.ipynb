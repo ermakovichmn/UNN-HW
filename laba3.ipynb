{
 "cells": [
  {
   "cell_type": "code",
   "execution_count": null,
   "metadata": {},
   "outputs": [],
   "source": [
    "n=10\n",
    "i,j=0,0\n",
    "a=[[i for i in range(n+1)] for j in range(n)]\n",
    "x=[0 for j in range(n)]\n",
    "ai=[i for i in range(n+1)]\n",
    "for k in range (0,10):\n",
    "    a[k][10]=round(1/(k+1),3)\n",
    "    for n in range (0,10):\n",
    "        a[k][n]=round((1/(k+n+2)),3)\n",
    "        \n",
    "        if(k==n):\n",
    "            a[k][n]=1\n",
    "def printa(a):            \n",
    "    for i in range(n+1):\n",
    "        print(a[i])\n",
    "    print(\" \")    \n",
    "printa(a)\n",
    "for j in range(n+1):    \n",
    "    for i in range(1+j,n+1):\n",
    "        k=-(a[i][j]/a[j][j])      \n",
    "        for l in range(n+2):\n",
    "            a[i][l]=round(a[i][l]+a[j][l]*k,3)\n",
    "printa(a)\n",
    "n=10\n",
    "for i in range(1,11):\n",
    "    x[n-i]=(a[n-i][10]-a[n-i][9]*x[9]-a[n-i][8]*x[8]-a[n-i][7]*x[7]-a[n-i][6]*x[6]-a[n-i][5]*x[5]-a[n-i][4]*x[4]-a[n-i][3]*x[3]-a[n-i][2]*x[2]-a[n-i][1]*x[1])/a[n-i][n-i] \n",
    "print(x)    "
   ]
  },
  {
   "cell_type": "code",
   "execution_count": null,
   "metadata": {},
   "outputs": [],
   "source": [
    "n=10\n",
    "i,j=0,0\n",
    "a=[[i for i in range(n)] for j in range(n)]\n",
    "b=[0 for j in range(n)]\n",
    "x=[0 for j in range(n)]\n",
    "ai=[i for i in range(n+1)]\n",
    "for k in range (0,10):\n",
    "    for n in range (0,10):\n",
    "        a[k][n]=round((1/(k+n+2)),3)\n",
    "        \n",
    "        if(k==n):\n",
    "            a[k][n]=1\n",
    "def printa(a):            \n",
    "    for i in range(n):\n",
    "        print(a[i])\n",
    "    print(\" \")    \n",
    "printa(a)"
   ]
  }
 ],
 "metadata": {
  "kernelspec": {
   "display_name": "Python 3",
   "language": "python",
   "name": "python3"
  },
  "language_info": {
   "codemirror_mode": {
    "name": "ipython",
    "version": 3
   },
   "file_extension": ".py",
   "mimetype": "text/x-python",
   "name": "python",
   "nbconvert_exporter": "python",
   "pygments_lexer": "ipython3",
   "version": "3.6.7"
  }
 },
 "nbformat": 4,
 "nbformat_minor": 2
}
